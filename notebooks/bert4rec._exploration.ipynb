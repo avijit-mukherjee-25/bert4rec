{
 "cells": [
  {
   "cell_type": "code",
   "execution_count": 1,
   "id": "80769153-b33f-44a9-97cf-5c1d89e1e6f5",
   "metadata": {},
   "outputs": [
    {
     "name": "stderr",
     "output_type": "stream",
     "text": [
      "/Users/avijitm/miniconda3/envs/transformers/lib/python3.11/site-packages/tqdm/auto.py:21: TqdmWarning: IProgress not found. Please update jupyter and ipywidgets. See https://ipywidgets.readthedocs.io/en/stable/user_install.html\n",
      "  from .autonotebook import tqdm as notebook_tqdm\n"
     ]
    }
   ],
   "source": [
    "import pandas as pd\n",
    "import numpy as np\n",
    "import torch\n",
    "import torch.nn as nn\n",
    "import numpy as np\n",
    "from torch.utils.data import DataLoader, Dataset\n",
    "from torchvision import datasets, transforms\n",
    "from torchvision.transforms import ToTensor\n",
    "import torch.nn.functional as F\n",
    "import matplotlib.pyplot as plt\n",
    "from collections import defaultdict\n",
    "from sklearn.metrics import ndcg_score"
   ]
  },
  {
   "cell_type": "code",
   "execution_count": 49,
   "id": "3bda758d-0e46-4b22-8709-39c52cf88a20",
   "metadata": {},
   "outputs": [],
   "source": [
    "data_dir = './ml-1m'"
   ]
  },
  {
   "cell_type": "code",
   "execution_count": 3,
   "id": "7937055a-05b5-4d27-b765-1c3344c9dfe4",
   "metadata": {},
   "outputs": [],
   "source": [
    "movies = pd.read_csv(\n",
    "    f'{data_dir}/movies.dat',sep='::',\n",
    "    engine='python',  # Use 'python' engine to handle the separator correctly\n",
    "    encoding='latin-1',  # Important for handling special characters\n",
    "    header=None,\n",
    "    names=['MovieID', 'Title', 'Genres']\n",
    ")"
   ]
  },
  {
   "cell_type": "code",
   "execution_count": 4,
   "id": "b8f87589-76dd-4e68-aff1-a454cbb71f0d",
   "metadata": {},
   "outputs": [
    {
     "data": {
      "text/html": [
       "<div>\n",
       "<style scoped>\n",
       "    .dataframe tbody tr th:only-of-type {\n",
       "        vertical-align: middle;\n",
       "    }\n",
       "\n",
       "    .dataframe tbody tr th {\n",
       "        vertical-align: top;\n",
       "    }\n",
       "\n",
       "    .dataframe thead th {\n",
       "        text-align: right;\n",
       "    }\n",
       "</style>\n",
       "<table border=\"1\" class=\"dataframe\">\n",
       "  <thead>\n",
       "    <tr style=\"text-align: right;\">\n",
       "      <th></th>\n",
       "      <th>MovieID</th>\n",
       "      <th>Title</th>\n",
       "      <th>Genres</th>\n",
       "    </tr>\n",
       "  </thead>\n",
       "  <tbody>\n",
       "    <tr>\n",
       "      <th>0</th>\n",
       "      <td>1</td>\n",
       "      <td>Toy Story (1995)</td>\n",
       "      <td>Animation|Children's|Comedy</td>\n",
       "    </tr>\n",
       "    <tr>\n",
       "      <th>1</th>\n",
       "      <td>2</td>\n",
       "      <td>Jumanji (1995)</td>\n",
       "      <td>Adventure|Children's|Fantasy</td>\n",
       "    </tr>\n",
       "    <tr>\n",
       "      <th>2</th>\n",
       "      <td>3</td>\n",
       "      <td>Grumpier Old Men (1995)</td>\n",
       "      <td>Comedy|Romance</td>\n",
       "    </tr>\n",
       "    <tr>\n",
       "      <th>3</th>\n",
       "      <td>4</td>\n",
       "      <td>Waiting to Exhale (1995)</td>\n",
       "      <td>Comedy|Drama</td>\n",
       "    </tr>\n",
       "    <tr>\n",
       "      <th>4</th>\n",
       "      <td>5</td>\n",
       "      <td>Father of the Bride Part II (1995)</td>\n",
       "      <td>Comedy</td>\n",
       "    </tr>\n",
       "  </tbody>\n",
       "</table>\n",
       "</div>"
      ],
      "text/plain": [
       "   MovieID                               Title                        Genres\n",
       "0        1                    Toy Story (1995)   Animation|Children's|Comedy\n",
       "1        2                      Jumanji (1995)  Adventure|Children's|Fantasy\n",
       "2        3             Grumpier Old Men (1995)                Comedy|Romance\n",
       "3        4            Waiting to Exhale (1995)                  Comedy|Drama\n",
       "4        5  Father of the Bride Part II (1995)                        Comedy"
      ]
     },
     "execution_count": 4,
     "metadata": {},
     "output_type": "execute_result"
    }
   ],
   "source": [
    "movies.head()"
   ]
  },
  {
   "cell_type": "code",
   "execution_count": 5,
   "id": "4d238274-4bc1-4bfa-9148-780a619cd069",
   "metadata": {},
   "outputs": [],
   "source": [
    "users = pd.read_csv(\n",
    "    f'{data_dir}/users.dat',sep='::',\n",
    "    engine='python',  # Use 'python' engine to handle the separator correctly\n",
    "    encoding='latin-1',  # Important for handling special characters\n",
    "    header=None,\n",
    "    names=['UserID', 'Gender', 'Age', 'Occupation', 'Zip-code']\n",
    ")"
   ]
  },
  {
   "cell_type": "code",
   "execution_count": 6,
   "id": "436b28ba-98a9-4f03-a22b-56db90f86ec9",
   "metadata": {},
   "outputs": [
    {
     "data": {
      "text/html": [
       "<div>\n",
       "<style scoped>\n",
       "    .dataframe tbody tr th:only-of-type {\n",
       "        vertical-align: middle;\n",
       "    }\n",
       "\n",
       "    .dataframe tbody tr th {\n",
       "        vertical-align: top;\n",
       "    }\n",
       "\n",
       "    .dataframe thead th {\n",
       "        text-align: right;\n",
       "    }\n",
       "</style>\n",
       "<table border=\"1\" class=\"dataframe\">\n",
       "  <thead>\n",
       "    <tr style=\"text-align: right;\">\n",
       "      <th></th>\n",
       "      <th>UserID</th>\n",
       "      <th>Gender</th>\n",
       "      <th>Age</th>\n",
       "      <th>Occupation</th>\n",
       "      <th>Zip-code</th>\n",
       "    </tr>\n",
       "  </thead>\n",
       "  <tbody>\n",
       "    <tr>\n",
       "      <th>0</th>\n",
       "      <td>1</td>\n",
       "      <td>F</td>\n",
       "      <td>1</td>\n",
       "      <td>10</td>\n",
       "      <td>48067</td>\n",
       "    </tr>\n",
       "    <tr>\n",
       "      <th>1</th>\n",
       "      <td>2</td>\n",
       "      <td>M</td>\n",
       "      <td>56</td>\n",
       "      <td>16</td>\n",
       "      <td>70072</td>\n",
       "    </tr>\n",
       "    <tr>\n",
       "      <th>2</th>\n",
       "      <td>3</td>\n",
       "      <td>M</td>\n",
       "      <td>25</td>\n",
       "      <td>15</td>\n",
       "      <td>55117</td>\n",
       "    </tr>\n",
       "    <tr>\n",
       "      <th>3</th>\n",
       "      <td>4</td>\n",
       "      <td>M</td>\n",
       "      <td>45</td>\n",
       "      <td>7</td>\n",
       "      <td>02460</td>\n",
       "    </tr>\n",
       "    <tr>\n",
       "      <th>4</th>\n",
       "      <td>5</td>\n",
       "      <td>M</td>\n",
       "      <td>25</td>\n",
       "      <td>20</td>\n",
       "      <td>55455</td>\n",
       "    </tr>\n",
       "  </tbody>\n",
       "</table>\n",
       "</div>"
      ],
      "text/plain": [
       "   UserID Gender  Age  Occupation Zip-code\n",
       "0       1      F    1          10    48067\n",
       "1       2      M   56          16    70072\n",
       "2       3      M   25          15    55117\n",
       "3       4      M   45           7    02460\n",
       "4       5      M   25          20    55455"
      ]
     },
     "execution_count": 6,
     "metadata": {},
     "output_type": "execute_result"
    }
   ],
   "source": [
    "users.head()"
   ]
  },
  {
   "cell_type": "code",
   "execution_count": 7,
   "id": "9e674a6d-593a-4d4c-886e-8e1973602064",
   "metadata": {},
   "outputs": [],
   "source": [
    "ratings = pd.read_csv(\n",
    "    f'{data_dir}/ratings.dat',sep='::',\n",
    "    engine='python',  # Use 'python' engine to handle the separator correctly\n",
    "    encoding='latin-1',  # Important for handling special characters\n",
    "    header=None,\n",
    "    names=['UserID', 'MovieID', 'Rating', 'Timestamp']\n",
    ")"
   ]
  },
  {
   "cell_type": "code",
   "execution_count": 8,
   "id": "2de54ed5-e541-4733-afab-191a24d5a1a3",
   "metadata": {},
   "outputs": [
    {
     "data": {
      "text/html": [
       "<div>\n",
       "<style scoped>\n",
       "    .dataframe tbody tr th:only-of-type {\n",
       "        vertical-align: middle;\n",
       "    }\n",
       "\n",
       "    .dataframe tbody tr th {\n",
       "        vertical-align: top;\n",
       "    }\n",
       "\n",
       "    .dataframe thead th {\n",
       "        text-align: right;\n",
       "    }\n",
       "</style>\n",
       "<table border=\"1\" class=\"dataframe\">\n",
       "  <thead>\n",
       "    <tr style=\"text-align: right;\">\n",
       "      <th></th>\n",
       "      <th>UserID</th>\n",
       "      <th>MovieID</th>\n",
       "      <th>Rating</th>\n",
       "      <th>Timestamp</th>\n",
       "    </tr>\n",
       "  </thead>\n",
       "  <tbody>\n",
       "    <tr>\n",
       "      <th>0</th>\n",
       "      <td>1</td>\n",
       "      <td>1193</td>\n",
       "      <td>5</td>\n",
       "      <td>978300760</td>\n",
       "    </tr>\n",
       "    <tr>\n",
       "      <th>1</th>\n",
       "      <td>1</td>\n",
       "      <td>661</td>\n",
       "      <td>3</td>\n",
       "      <td>978302109</td>\n",
       "    </tr>\n",
       "    <tr>\n",
       "      <th>2</th>\n",
       "      <td>1</td>\n",
       "      <td>914</td>\n",
       "      <td>3</td>\n",
       "      <td>978301968</td>\n",
       "    </tr>\n",
       "    <tr>\n",
       "      <th>3</th>\n",
       "      <td>1</td>\n",
       "      <td>3408</td>\n",
       "      <td>4</td>\n",
       "      <td>978300275</td>\n",
       "    </tr>\n",
       "    <tr>\n",
       "      <th>4</th>\n",
       "      <td>1</td>\n",
       "      <td>2355</td>\n",
       "      <td>5</td>\n",
       "      <td>978824291</td>\n",
       "    </tr>\n",
       "  </tbody>\n",
       "</table>\n",
       "</div>"
      ],
      "text/plain": [
       "   UserID  MovieID  Rating  Timestamp\n",
       "0       1     1193       5  978300760\n",
       "1       1      661       3  978302109\n",
       "2       1      914       3  978301968\n",
       "3       1     3408       4  978300275\n",
       "4       1     2355       5  978824291"
      ]
     },
     "execution_count": 8,
     "metadata": {},
     "output_type": "execute_result"
    }
   ],
   "source": [
    "ratings.head()"
   ]
  },
  {
   "cell_type": "code",
   "execution_count": 9,
   "id": "de132ff2-5d01-4b98-a467-920aae5f89df",
   "metadata": {},
   "outputs": [
    {
     "data": {
      "text/html": [
       "<div>\n",
       "<style scoped>\n",
       "    .dataframe tbody tr th:only-of-type {\n",
       "        vertical-align: middle;\n",
       "    }\n",
       "\n",
       "    .dataframe tbody tr th {\n",
       "        vertical-align: top;\n",
       "    }\n",
       "\n",
       "    .dataframe thead th {\n",
       "        text-align: right;\n",
       "    }\n",
       "</style>\n",
       "<table border=\"1\" class=\"dataframe\">\n",
       "  <thead>\n",
       "    <tr style=\"text-align: right;\">\n",
       "      <th></th>\n",
       "      <th>UserID</th>\n",
       "      <th>MovieID</th>\n",
       "      <th>Rating</th>\n",
       "      <th>Timestamp</th>\n",
       "    </tr>\n",
       "  </thead>\n",
       "  <tbody>\n",
       "    <tr>\n",
       "      <th>155787</th>\n",
       "      <td>1004</td>\n",
       "      <td>2643</td>\n",
       "      <td>1</td>\n",
       "      <td>975043037</td>\n",
       "    </tr>\n",
       "    <tr>\n",
       "      <th>955328</th>\n",
       "      <td>5763</td>\n",
       "      <td>535</td>\n",
       "      <td>1</td>\n",
       "      <td>959535843</td>\n",
       "    </tr>\n",
       "    <tr>\n",
       "      <th>885948</th>\n",
       "      <td>5350</td>\n",
       "      <td>42</td>\n",
       "      <td>1</td>\n",
       "      <td>960660817</td>\n",
       "    </tr>\n",
       "    <tr>\n",
       "      <th>517012</th>\n",
       "      <td>3191</td>\n",
       "      <td>880</td>\n",
       "      <td>1</td>\n",
       "      <td>968653120</td>\n",
       "    </tr>\n",
       "    <tr>\n",
       "      <th>517011</th>\n",
       "      <td>3191</td>\n",
       "      <td>1556</td>\n",
       "      <td>1</td>\n",
       "      <td>968653144</td>\n",
       "    </tr>\n",
       "  </tbody>\n",
       "</table>\n",
       "</div>"
      ],
      "text/plain": [
       "        UserID  MovieID  Rating  Timestamp\n",
       "155787    1004     2643       1  975043037\n",
       "955328    5763      535       1  959535843\n",
       "885948    5350       42       1  960660817\n",
       "517012    3191      880       1  968653120\n",
       "517011    3191     1556       1  968653144"
      ]
     },
     "execution_count": 9,
     "metadata": {},
     "output_type": "execute_result"
    }
   ],
   "source": [
    "ratings.sort_values(by='Rating').head()"
   ]
  },
  {
   "cell_type": "code",
   "execution_count": 10,
   "id": "e5daaac5-fa0d-47e3-a49c-93fde9b1da05",
   "metadata": {},
   "outputs": [
    {
     "data": {
      "text/plain": [
       "(1000209, 4)"
      ]
     },
     "execution_count": 10,
     "metadata": {},
     "output_type": "execute_result"
    }
   ],
   "source": [
    "ratings.shape"
   ]
  },
  {
   "cell_type": "code",
   "execution_count": 11,
   "id": "21f877b3-26c7-45f3-afa1-c9429cf15e58",
   "metadata": {},
   "outputs": [],
   "source": [
    "group = list(ratings.groupby('UserID').groups)"
   ]
  },
  {
   "cell_type": "code",
   "execution_count": 12,
   "id": "05d89fc5-a2a8-4c5e-bb55-36610f3ae844",
   "metadata": {},
   "outputs": [
    {
     "data": {
      "text/plain": [
       "6040"
      ]
     },
     "execution_count": 12,
     "metadata": {},
     "output_type": "execute_result"
    }
   ],
   "source": [
    "len(group)"
   ]
  },
  {
   "cell_type": "code",
   "execution_count": 13,
   "id": "70705810-7dfd-4d25-96ea-75a7b9bffc31",
   "metadata": {},
   "outputs": [
    {
     "data": {
      "text/plain": [
       "6040"
      ]
     },
     "execution_count": 13,
     "metadata": {},
     "output_type": "execute_result"
    }
   ],
   "source": [
    "ratings.UserID.nunique()"
   ]
  },
  {
   "cell_type": "code",
   "execution_count": 14,
   "id": "c90ef724-8ebb-42f7-a891-b2b50a1c9dac",
   "metadata": {},
   "outputs": [
    {
     "data": {
      "text/plain": [
       "UserID\n",
       "4169    2314\n",
       "1680    1850\n",
       "4277    1743\n",
       "1941    1595\n",
       "1181    1521\n",
       "        ... \n",
       "5725      20\n",
       "3407      20\n",
       "1664      20\n",
       "4419      20\n",
       "3021      20\n",
       "Name: MovieID, Length: 6040, dtype: int64"
      ]
     },
     "execution_count": 14,
     "metadata": {},
     "output_type": "execute_result"
    }
   ],
   "source": [
    "ratings.groupby('UserID')['MovieID'].count().sort_values(ascending=False)"
   ]
  },
  {
   "cell_type": "code",
   "execution_count": 15,
   "id": "f57214b2-f27c-4e06-b3b9-de4eb99e03ea",
   "metadata": {},
   "outputs": [
    {
     "data": {
      "text/html": [
       "<div>\n",
       "<style scoped>\n",
       "    .dataframe tbody tr th:only-of-type {\n",
       "        vertical-align: middle;\n",
       "    }\n",
       "\n",
       "    .dataframe tbody tr th {\n",
       "        vertical-align: top;\n",
       "    }\n",
       "\n",
       "    .dataframe thead th {\n",
       "        text-align: right;\n",
       "    }\n",
       "</style>\n",
       "<table border=\"1\" class=\"dataframe\">\n",
       "  <thead>\n",
       "    <tr style=\"text-align: right;\">\n",
       "      <th></th>\n",
       "      <th>UserID</th>\n",
       "      <th>MovieID</th>\n",
       "      <th>Rating</th>\n",
       "      <th>Timestamp</th>\n",
       "    </tr>\n",
       "  </thead>\n",
       "  <tbody>\n",
       "    <tr>\n",
       "      <th>695642</th>\n",
       "      <td>4169</td>\n",
       "      <td>3789</td>\n",
       "      <td>5</td>\n",
       "      <td>965333672</td>\n",
       "    </tr>\n",
       "    <tr>\n",
       "      <th>695643</th>\n",
       "      <td>4169</td>\n",
       "      <td>571</td>\n",
       "      <td>4</td>\n",
       "      <td>973310265</td>\n",
       "    </tr>\n",
       "    <tr>\n",
       "      <th>695644</th>\n",
       "      <td>4169</td>\n",
       "      <td>574</td>\n",
       "      <td>3</td>\n",
       "      <td>975805232</td>\n",
       "    </tr>\n",
       "    <tr>\n",
       "      <th>695645</th>\n",
       "      <td>4169</td>\n",
       "      <td>575</td>\n",
       "      <td>3</td>\n",
       "      <td>976589949</td>\n",
       "    </tr>\n",
       "    <tr>\n",
       "      <th>695646</th>\n",
       "      <td>4169</td>\n",
       "      <td>577</td>\n",
       "      <td>3</td>\n",
       "      <td>988324145</td>\n",
       "    </tr>\n",
       "    <tr>\n",
       "      <th>...</th>\n",
       "      <td>...</td>\n",
       "      <td>...</td>\n",
       "      <td>...</td>\n",
       "      <td>...</td>\n",
       "    </tr>\n",
       "    <tr>\n",
       "      <th>697951</th>\n",
       "      <td>4169</td>\n",
       "      <td>3784</td>\n",
       "      <td>2</td>\n",
       "      <td>965333606</td>\n",
       "    </tr>\n",
       "    <tr>\n",
       "      <th>697952</th>\n",
       "      <td>4169</td>\n",
       "      <td>3785</td>\n",
       "      <td>3</td>\n",
       "      <td>980476924</td>\n",
       "    </tr>\n",
       "    <tr>\n",
       "      <th>697953</th>\n",
       "      <td>4169</td>\n",
       "      <td>2047</td>\n",
       "      <td>3</td>\n",
       "      <td>971579815</td>\n",
       "    </tr>\n",
       "    <tr>\n",
       "      <th>697954</th>\n",
       "      <td>4169</td>\n",
       "      <td>3788</td>\n",
       "      <td>3</td>\n",
       "      <td>965333481</td>\n",
       "    </tr>\n",
       "    <tr>\n",
       "      <th>697955</th>\n",
       "      <td>4169</td>\n",
       "      <td>2049</td>\n",
       "      <td>3</td>\n",
       "      <td>965693586</td>\n",
       "    </tr>\n",
       "  </tbody>\n",
       "</table>\n",
       "<p>2314 rows × 4 columns</p>\n",
       "</div>"
      ],
      "text/plain": [
       "        UserID  MovieID  Rating  Timestamp\n",
       "695642    4169     3789       5  965333672\n",
       "695643    4169      571       4  973310265\n",
       "695644    4169      574       3  975805232\n",
       "695645    4169      575       3  976589949\n",
       "695646    4169      577       3  988324145\n",
       "...        ...      ...     ...        ...\n",
       "697951    4169     3784       2  965333606\n",
       "697952    4169     3785       3  980476924\n",
       "697953    4169     2047       3  971579815\n",
       "697954    4169     3788       3  965333481\n",
       "697955    4169     2049       3  965693586\n",
       "\n",
       "[2314 rows x 4 columns]"
      ]
     },
     "execution_count": 15,
     "metadata": {},
     "output_type": "execute_result"
    }
   ],
   "source": [
    "ratings.loc[ratings.UserID==4169]"
   ]
  },
  {
   "cell_type": "code",
   "execution_count": 20,
   "id": "c33774d3-fcf8-457a-8fc1-5e009d56cbcf",
   "metadata": {},
   "outputs": [],
   "source": [
    "def generate_encoder_decoder(col) -> dict:\n",
    "        \"\"\"\n",
    "        encoder, decoder\n",
    "\n",
    "        Args:\n",
    "            col (str): columns\n",
    "        Returns:\n",
    "            dict: encoder, decoder\n",
    "        \"\"\"\n",
    "\n",
    "        encoder = {}\n",
    "        decoder = {}\n",
    "        ids = col.unique()\n",
    "\n",
    "        for idx, _id in enumerate(ids):\n",
    "            encoder[_id] = idx\n",
    "            decoder[idx] = _id\n",
    "\n",
    "        return encoder, decoder"
   ]
  },
  {
   "cell_type": "code",
   "execution_count": 34,
   "id": "734a3b3f-036b-44ef-999a-aa3823d250f3",
   "metadata": {},
   "outputs": [],
   "source": [
    "def generate_sequence_data() -> dict:\n",
    "        \"\"\"\n",
    "        sequence_data\n",
    "\n",
    "        Returns:\n",
    "            dict: train user sequence / valid user sequence\n",
    "        \"\"\"\n",
    "        users = defaultdict(list)\n",
    "        user_train = {}\n",
    "        genres_seq = {}\n",
    "        user_valid = {}\n",
    "        group_df = df.groupby('user_idx')\n",
    "        for user, item in group_df:\n",
    "            users[user].extend(item['item_idx'].tolist())\n",
    "            \n",
    "        \n",
    "        for user in users:\n",
    "            user_train[user] = users[user][:-1]\n",
    "            user_valid[user] = users[user][-1]\n",
    "\n",
    "        return user_train, user_valid"
   ]
  },
  {
   "cell_type": "code",
   "execution_count": 35,
   "id": "79236c8b-dd8a-4518-924c-115aa2faa1d3",
   "metadata": {},
   "outputs": [],
   "source": [
    "user_encoder, user_decoder = generate_encoder_decoder(ratings['UserID'])\n",
    "item_encoder, item_decoder = generate_encoder_decoder(movies['MovieID'])"
   ]
  },
  {
   "cell_type": "code",
   "execution_count": 37,
   "id": "5372f21b-f2ad-4711-93ab-7a6eaeeace6a",
   "metadata": {},
   "outputs": [
    {
     "name": "stdout",
     "output_type": "stream",
     "text": [
      "Generate sequence data...\n"
     ]
    }
   ],
   "source": [
    "df=ratings.copy()\n",
    "df['item_idx'] = df['MovieID'].apply(lambda x : item_encoder[x] + 1)\n",
    "df['user_idx'] = df['UserID'].apply(lambda x : user_encoder[x])\n",
    "        \n",
    "df = df.sort_values(['user_idx', 'Timestamp']) \n",
    "        \n",
    "print('Generate sequence data...')\n",
    "user_train, user_valid = generate_sequence_data()"
   ]
  },
  {
   "cell_type": "code",
   "execution_count": 40,
   "id": "9ed10767-dcf9-46d2-abf0-3b43f6eeb017",
   "metadata": {},
   "outputs": [
    {
     "data": {
      "text/plain": [
       "([3118,\n",
       "  1251,\n",
       "  1673,\n",
       "  1010,\n",
       "  2272,\n",
       "  1769,\n",
       "  3340,\n",
       "  2736,\n",
       "  1190,\n",
       "  1177,\n",
       "  712,\n",
       "  258,\n",
       "  908,\n",
       "  605,\n",
       "  2624,\n",
       "  1893,\n",
       "  1960,\n",
       "  3037,\n",
       "  927,\n",
       "  1023,\n",
       "  1894,\n",
       "  1950,\n",
       "  149,\n",
       "  1016,\n",
       "  1082,\n",
       "  903,\n",
       "  1268,\n",
       "  2729,\n",
       "  2694,\n",
       "  1227,\n",
       "  656,\n",
       "  2850,\n",
       "  528,\n",
       "  3046,\n",
       "  2723,\n",
       "  2253,\n",
       "  1017,\n",
       "  1180,\n",
       "  591,\n",
       "  2330,\n",
       "  1507,\n",
       "  524,\n",
       "  592,\n",
       "  2619,\n",
       "  736,\n",
       "  585,\n",
       "  1,\n",
       "  2287,\n",
       "  2226,\n",
       "  774,\n",
       "  1527,\n",
       "  1839],\n",
       " 48)"
      ]
     },
     "execution_count": 40,
     "metadata": {},
     "output_type": "execute_result"
    }
   ],
   "source": [
    "user_train[0], user_valid[0]"
   ]
  },
  {
   "cell_type": "code",
   "execution_count": 43,
   "id": "7664ff4f-98f5-49ac-91de-bb590cfd5873",
   "metadata": {},
   "outputs": [
    {
     "data": {
      "text/html": [
       "<div>\n",
       "<style scoped>\n",
       "    .dataframe tbody tr th:only-of-type {\n",
       "        vertical-align: middle;\n",
       "    }\n",
       "\n",
       "    .dataframe tbody tr th {\n",
       "        vertical-align: top;\n",
       "    }\n",
       "\n",
       "    .dataframe thead th {\n",
       "        text-align: right;\n",
       "    }\n",
       "</style>\n",
       "<table border=\"1\" class=\"dataframe\">\n",
       "  <thead>\n",
       "    <tr style=\"text-align: right;\">\n",
       "      <th></th>\n",
       "      <th>UserID</th>\n",
       "      <th>MovieID</th>\n",
       "      <th>Rating</th>\n",
       "      <th>Timestamp</th>\n",
       "      <th>item_idx</th>\n",
       "      <th>user_idx</th>\n",
       "    </tr>\n",
       "  </thead>\n",
       "  <tbody>\n",
       "    <tr>\n",
       "      <th>31</th>\n",
       "      <td>1</td>\n",
       "      <td>3186</td>\n",
       "      <td>4</td>\n",
       "      <td>978300019</td>\n",
       "      <td>3118</td>\n",
       "      <td>0</td>\n",
       "    </tr>\n",
       "    <tr>\n",
       "      <th>22</th>\n",
       "      <td>1</td>\n",
       "      <td>1270</td>\n",
       "      <td>5</td>\n",
       "      <td>978300055</td>\n",
       "      <td>1251</td>\n",
       "      <td>0</td>\n",
       "    </tr>\n",
       "    <tr>\n",
       "      <th>27</th>\n",
       "      <td>1</td>\n",
       "      <td>1721</td>\n",
       "      <td>4</td>\n",
       "      <td>978300055</td>\n",
       "      <td>1673</td>\n",
       "      <td>0</td>\n",
       "    </tr>\n",
       "    <tr>\n",
       "      <th>37</th>\n",
       "      <td>1</td>\n",
       "      <td>1022</td>\n",
       "      <td>5</td>\n",
       "      <td>978300055</td>\n",
       "      <td>1010</td>\n",
       "      <td>0</td>\n",
       "    </tr>\n",
       "    <tr>\n",
       "      <th>24</th>\n",
       "      <td>1</td>\n",
       "      <td>2340</td>\n",
       "      <td>3</td>\n",
       "      <td>978300103</td>\n",
       "      <td>2272</td>\n",
       "      <td>0</td>\n",
       "    </tr>\n",
       "    <tr>\n",
       "      <th>36</th>\n",
       "      <td>1</td>\n",
       "      <td>1836</td>\n",
       "      <td>5</td>\n",
       "      <td>978300172</td>\n",
       "      <td>1769</td>\n",
       "      <td>0</td>\n",
       "    </tr>\n",
       "    <tr>\n",
       "      <th>3</th>\n",
       "      <td>1</td>\n",
       "      <td>3408</td>\n",
       "      <td>4</td>\n",
       "      <td>978300275</td>\n",
       "      <td>3340</td>\n",
       "      <td>0</td>\n",
       "    </tr>\n",
       "    <tr>\n",
       "      <th>7</th>\n",
       "      <td>1</td>\n",
       "      <td>2804</td>\n",
       "      <td>5</td>\n",
       "      <td>978300719</td>\n",
       "      <td>2736</td>\n",
       "      <td>0</td>\n",
       "    </tr>\n",
       "    <tr>\n",
       "      <th>47</th>\n",
       "      <td>1</td>\n",
       "      <td>1207</td>\n",
       "      <td>4</td>\n",
       "      <td>978300719</td>\n",
       "      <td>1190</td>\n",
       "      <td>0</td>\n",
       "    </tr>\n",
       "    <tr>\n",
       "      <th>0</th>\n",
       "      <td>1</td>\n",
       "      <td>1193</td>\n",
       "      <td>5</td>\n",
       "      <td>978300760</td>\n",
       "      <td>1177</td>\n",
       "      <td>0</td>\n",
       "    </tr>\n",
       "    <tr>\n",
       "      <th>21</th>\n",
       "      <td>1</td>\n",
       "      <td>720</td>\n",
       "      <td>3</td>\n",
       "      <td>978300760</td>\n",
       "      <td>712</td>\n",
       "      <td>0</td>\n",
       "    </tr>\n",
       "    <tr>\n",
       "      <th>44</th>\n",
       "      <td>1</td>\n",
       "      <td>260</td>\n",
       "      <td>4</td>\n",
       "      <td>978300760</td>\n",
       "      <td>258</td>\n",
       "      <td>0</td>\n",
       "    </tr>\n",
       "    <tr>\n",
       "      <th>9</th>\n",
       "      <td>1</td>\n",
       "      <td>919</td>\n",
       "      <td>4</td>\n",
       "      <td>978301368</td>\n",
       "      <td>908</td>\n",
       "      <td>0</td>\n",
       "    </tr>\n",
       "    <tr>\n",
       "      <th>51</th>\n",
       "      <td>1</td>\n",
       "      <td>608</td>\n",
       "      <td>4</td>\n",
       "      <td>978301398</td>\n",
       "      <td>605</td>\n",
       "      <td>0</td>\n",
       "    </tr>\n",
       "    <tr>\n",
       "      <th>43</th>\n",
       "      <td>1</td>\n",
       "      <td>2692</td>\n",
       "      <td>4</td>\n",
       "      <td>978301570</td>\n",
       "      <td>2624</td>\n",
       "      <td>0</td>\n",
       "    </tr>\n",
       "    <tr>\n",
       "      <th>41</th>\n",
       "      <td>1</td>\n",
       "      <td>1961</td>\n",
       "      <td>5</td>\n",
       "      <td>978301590</td>\n",
       "      <td>1893</td>\n",
       "      <td>0</td>\n",
       "    </tr>\n",
       "    <tr>\n",
       "      <th>48</th>\n",
       "      <td>1</td>\n",
       "      <td>2028</td>\n",
       "      <td>5</td>\n",
       "      <td>978301619</td>\n",
       "      <td>1960</td>\n",
       "      <td>0</td>\n",
       "    </tr>\n",
       "    <tr>\n",
       "      <th>18</th>\n",
       "      <td>1</td>\n",
       "      <td>3105</td>\n",
       "      <td>5</td>\n",
       "      <td>978301713</td>\n",
       "      <td>3037</td>\n",
       "      <td>0</td>\n",
       "    </tr>\n",
       "    <tr>\n",
       "      <th>11</th>\n",
       "      <td>1</td>\n",
       "      <td>938</td>\n",
       "      <td>4</td>\n",
       "      <td>978301752</td>\n",
       "      <td>927</td>\n",
       "      <td>0</td>\n",
       "    </tr>\n",
       "    <tr>\n",
       "      <th>14</th>\n",
       "      <td>1</td>\n",
       "      <td>1035</td>\n",
       "      <td>5</td>\n",
       "      <td>978301753</td>\n",
       "      <td>1023</td>\n",
       "      <td>0</td>\n",
       "    </tr>\n",
       "    <tr>\n",
       "      <th>42</th>\n",
       "      <td>1</td>\n",
       "      <td>1962</td>\n",
       "      <td>4</td>\n",
       "      <td>978301753</td>\n",
       "      <td>1894</td>\n",
       "      <td>0</td>\n",
       "    </tr>\n",
       "    <tr>\n",
       "      <th>17</th>\n",
       "      <td>1</td>\n",
       "      <td>2018</td>\n",
       "      <td>4</td>\n",
       "      <td>978301777</td>\n",
       "      <td>1950</td>\n",
       "      <td>0</td>\n",
       "    </tr>\n",
       "    <tr>\n",
       "      <th>39</th>\n",
       "      <td>1</td>\n",
       "      <td>150</td>\n",
       "      <td>5</td>\n",
       "      <td>978301777</td>\n",
       "      <td>149</td>\n",
       "      <td>0</td>\n",
       "    </tr>\n",
       "    <tr>\n",
       "      <th>45</th>\n",
       "      <td>1</td>\n",
       "      <td>1028</td>\n",
       "      <td>5</td>\n",
       "      <td>978301777</td>\n",
       "      <td>1016</td>\n",
       "      <td>0</td>\n",
       "    </tr>\n",
       "    <tr>\n",
       "      <th>26</th>\n",
       "      <td>1</td>\n",
       "      <td>1097</td>\n",
       "      <td>4</td>\n",
       "      <td>978301953</td>\n",
       "      <td>1082</td>\n",
       "      <td>0</td>\n",
       "    </tr>\n",
       "    <tr>\n",
       "      <th>2</th>\n",
       "      <td>1</td>\n",
       "      <td>914</td>\n",
       "      <td>3</td>\n",
       "      <td>978301968</td>\n",
       "      <td>903</td>\n",
       "      <td>0</td>\n",
       "    </tr>\n",
       "    <tr>\n",
       "      <th>6</th>\n",
       "      <td>1</td>\n",
       "      <td>1287</td>\n",
       "      <td>5</td>\n",
       "      <td>978302039</td>\n",
       "      <td>1268</td>\n",
       "      <td>0</td>\n",
       "    </tr>\n",
       "    <tr>\n",
       "      <th>19</th>\n",
       "      <td>1</td>\n",
       "      <td>2797</td>\n",
       "      <td>4</td>\n",
       "      <td>978302039</td>\n",
       "      <td>2729</td>\n",
       "      <td>0</td>\n",
       "    </tr>\n",
       "    <tr>\n",
       "      <th>38</th>\n",
       "      <td>1</td>\n",
       "      <td>2762</td>\n",
       "      <td>4</td>\n",
       "      <td>978302091</td>\n",
       "      <td>2694</td>\n",
       "      <td>0</td>\n",
       "    </tr>\n",
       "    <tr>\n",
       "      <th>52</th>\n",
       "      <td>1</td>\n",
       "      <td>1246</td>\n",
       "      <td>4</td>\n",
       "      <td>978302091</td>\n",
       "      <td>1227</td>\n",
       "      <td>0</td>\n",
       "    </tr>\n",
       "    <tr>\n",
       "      <th>1</th>\n",
       "      <td>1</td>\n",
       "      <td>661</td>\n",
       "      <td>3</td>\n",
       "      <td>978302109</td>\n",
       "      <td>656</td>\n",
       "      <td>0</td>\n",
       "    </tr>\n",
       "    <tr>\n",
       "      <th>13</th>\n",
       "      <td>1</td>\n",
       "      <td>2918</td>\n",
       "      <td>4</td>\n",
       "      <td>978302124</td>\n",
       "      <td>2850</td>\n",
       "      <td>0</td>\n",
       "    </tr>\n",
       "    <tr>\n",
       "      <th>49</th>\n",
       "      <td>1</td>\n",
       "      <td>531</td>\n",
       "      <td>4</td>\n",
       "      <td>978302149</td>\n",
       "      <td>528</td>\n",
       "      <td>0</td>\n",
       "    </tr>\n",
       "    <tr>\n",
       "      <th>50</th>\n",
       "      <td>1</td>\n",
       "      <td>3114</td>\n",
       "      <td>4</td>\n",
       "      <td>978302174</td>\n",
       "      <td>3046</td>\n",
       "      <td>0</td>\n",
       "    </tr>\n",
       "    <tr>\n",
       "      <th>15</th>\n",
       "      <td>1</td>\n",
       "      <td>2791</td>\n",
       "      <td>4</td>\n",
       "      <td>978302188</td>\n",
       "      <td>2723</td>\n",
       "      <td>0</td>\n",
       "    </tr>\n",
       "    <tr>\n",
       "      <th>20</th>\n",
       "      <td>1</td>\n",
       "      <td>2321</td>\n",
       "      <td>3</td>\n",
       "      <td>978302205</td>\n",
       "      <td>2253</td>\n",
       "      <td>0</td>\n",
       "    </tr>\n",
       "    <tr>\n",
       "      <th>46</th>\n",
       "      <td>1</td>\n",
       "      <td>1029</td>\n",
       "      <td>5</td>\n",
       "      <td>978302205</td>\n",
       "      <td>1017</td>\n",
       "      <td>0</td>\n",
       "    </tr>\n",
       "    <tr>\n",
       "      <th>5</th>\n",
       "      <td>1</td>\n",
       "      <td>1197</td>\n",
       "      <td>3</td>\n",
       "      <td>978302268</td>\n",
       "      <td>1180</td>\n",
       "      <td>0</td>\n",
       "    </tr>\n",
       "    <tr>\n",
       "      <th>8</th>\n",
       "      <td>1</td>\n",
       "      <td>594</td>\n",
       "      <td>4</td>\n",
       "      <td>978302268</td>\n",
       "      <td>591</td>\n",
       "      <td>0</td>\n",
       "    </tr>\n",
       "    <tr>\n",
       "      <th>12</th>\n",
       "      <td>1</td>\n",
       "      <td>2398</td>\n",
       "      <td>4</td>\n",
       "      <td>978302281</td>\n",
       "      <td>2330</td>\n",
       "      <td>0</td>\n",
       "    </tr>\n",
       "    <tr>\n",
       "      <th>28</th>\n",
       "      <td>1</td>\n",
       "      <td>1545</td>\n",
       "      <td>4</td>\n",
       "      <td>978824139</td>\n",
       "      <td>1507</td>\n",
       "      <td>0</td>\n",
       "    </tr>\n",
       "    <tr>\n",
       "      <th>23</th>\n",
       "      <td>1</td>\n",
       "      <td>527</td>\n",
       "      <td>5</td>\n",
       "      <td>978824195</td>\n",
       "      <td>524</td>\n",
       "      <td>0</td>\n",
       "    </tr>\n",
       "    <tr>\n",
       "      <th>10</th>\n",
       "      <td>1</td>\n",
       "      <td>595</td>\n",
       "      <td>5</td>\n",
       "      <td>978824268</td>\n",
       "      <td>592</td>\n",
       "      <td>0</td>\n",
       "    </tr>\n",
       "    <tr>\n",
       "      <th>16</th>\n",
       "      <td>1</td>\n",
       "      <td>2687</td>\n",
       "      <td>3</td>\n",
       "      <td>978824268</td>\n",
       "      <td>2619</td>\n",
       "      <td>0</td>\n",
       "    </tr>\n",
       "    <tr>\n",
       "      <th>29</th>\n",
       "      <td>1</td>\n",
       "      <td>745</td>\n",
       "      <td>3</td>\n",
       "      <td>978824268</td>\n",
       "      <td>736</td>\n",
       "      <td>0</td>\n",
       "    </tr>\n",
       "    <tr>\n",
       "      <th>33</th>\n",
       "      <td>1</td>\n",
       "      <td>588</td>\n",
       "      <td>4</td>\n",
       "      <td>978824268</td>\n",
       "      <td>585</td>\n",
       "      <td>0</td>\n",
       "    </tr>\n",
       "    <tr>\n",
       "      <th>40</th>\n",
       "      <td>1</td>\n",
       "      <td>1</td>\n",
       "      <td>5</td>\n",
       "      <td>978824268</td>\n",
       "      <td>1</td>\n",
       "      <td>0</td>\n",
       "    </tr>\n",
       "    <tr>\n",
       "      <th>4</th>\n",
       "      <td>1</td>\n",
       "      <td>2355</td>\n",
       "      <td>5</td>\n",
       "      <td>978824291</td>\n",
       "      <td>2287</td>\n",
       "      <td>0</td>\n",
       "    </tr>\n",
       "    <tr>\n",
       "      <th>30</th>\n",
       "      <td>1</td>\n",
       "      <td>2294</td>\n",
       "      <td>4</td>\n",
       "      <td>978824291</td>\n",
       "      <td>2226</td>\n",
       "      <td>0</td>\n",
       "    </tr>\n",
       "    <tr>\n",
       "      <th>35</th>\n",
       "      <td>1</td>\n",
       "      <td>783</td>\n",
       "      <td>4</td>\n",
       "      <td>978824291</td>\n",
       "      <td>774</td>\n",
       "      <td>0</td>\n",
       "    </tr>\n",
       "    <tr>\n",
       "      <th>32</th>\n",
       "      <td>1</td>\n",
       "      <td>1566</td>\n",
       "      <td>4</td>\n",
       "      <td>978824330</td>\n",
       "      <td>1527</td>\n",
       "      <td>0</td>\n",
       "    </tr>\n",
       "    <tr>\n",
       "      <th>34</th>\n",
       "      <td>1</td>\n",
       "      <td>1907</td>\n",
       "      <td>4</td>\n",
       "      <td>978824330</td>\n",
       "      <td>1839</td>\n",
       "      <td>0</td>\n",
       "    </tr>\n",
       "    <tr>\n",
       "      <th>25</th>\n",
       "      <td>1</td>\n",
       "      <td>48</td>\n",
       "      <td>5</td>\n",
       "      <td>978824351</td>\n",
       "      <td>48</td>\n",
       "      <td>0</td>\n",
       "    </tr>\n",
       "  </tbody>\n",
       "</table>\n",
       "</div>"
      ],
      "text/plain": [
       "    UserID  MovieID  Rating  Timestamp  item_idx  user_idx\n",
       "31       1     3186       4  978300019      3118         0\n",
       "22       1     1270       5  978300055      1251         0\n",
       "27       1     1721       4  978300055      1673         0\n",
       "37       1     1022       5  978300055      1010         0\n",
       "24       1     2340       3  978300103      2272         0\n",
       "36       1     1836       5  978300172      1769         0\n",
       "3        1     3408       4  978300275      3340         0\n",
       "7        1     2804       5  978300719      2736         0\n",
       "47       1     1207       4  978300719      1190         0\n",
       "0        1     1193       5  978300760      1177         0\n",
       "21       1      720       3  978300760       712         0\n",
       "44       1      260       4  978300760       258         0\n",
       "9        1      919       4  978301368       908         0\n",
       "51       1      608       4  978301398       605         0\n",
       "43       1     2692       4  978301570      2624         0\n",
       "41       1     1961       5  978301590      1893         0\n",
       "48       1     2028       5  978301619      1960         0\n",
       "18       1     3105       5  978301713      3037         0\n",
       "11       1      938       4  978301752       927         0\n",
       "14       1     1035       5  978301753      1023         0\n",
       "42       1     1962       4  978301753      1894         0\n",
       "17       1     2018       4  978301777      1950         0\n",
       "39       1      150       5  978301777       149         0\n",
       "45       1     1028       5  978301777      1016         0\n",
       "26       1     1097       4  978301953      1082         0\n",
       "2        1      914       3  978301968       903         0\n",
       "6        1     1287       5  978302039      1268         0\n",
       "19       1     2797       4  978302039      2729         0\n",
       "38       1     2762       4  978302091      2694         0\n",
       "52       1     1246       4  978302091      1227         0\n",
       "1        1      661       3  978302109       656         0\n",
       "13       1     2918       4  978302124      2850         0\n",
       "49       1      531       4  978302149       528         0\n",
       "50       1     3114       4  978302174      3046         0\n",
       "15       1     2791       4  978302188      2723         0\n",
       "20       1     2321       3  978302205      2253         0\n",
       "46       1     1029       5  978302205      1017         0\n",
       "5        1     1197       3  978302268      1180         0\n",
       "8        1      594       4  978302268       591         0\n",
       "12       1     2398       4  978302281      2330         0\n",
       "28       1     1545       4  978824139      1507         0\n",
       "23       1      527       5  978824195       524         0\n",
       "10       1      595       5  978824268       592         0\n",
       "16       1     2687       3  978824268      2619         0\n",
       "29       1      745       3  978824268       736         0\n",
       "33       1      588       4  978824268       585         0\n",
       "40       1        1       5  978824268         1         0\n",
       "4        1     2355       5  978824291      2287         0\n",
       "30       1     2294       4  978824291      2226         0\n",
       "35       1      783       4  978824291       774         0\n",
       "32       1     1566       4  978824330      1527         0\n",
       "34       1     1907       4  978824330      1839         0\n",
       "25       1       48       5  978824351        48         0"
      ]
     },
     "execution_count": 43,
     "metadata": {},
     "output_type": "execute_result"
    }
   ],
   "source": [
    "df.loc[df.UserID==1]"
   ]
  },
  {
   "cell_type": "code",
   "execution_count": 233,
   "id": "ffa74787-04d7-43f6-90e4-dffe88314eeb",
   "metadata": {},
   "outputs": [
    {
     "data": {
      "text/plain": [
       "3706"
      ]
     },
     "execution_count": 233,
     "metadata": {},
     "output_type": "execute_result"
    }
   ],
   "source": [
    "ratings.MovieID.nunique()"
   ]
  },
  {
   "cell_type": "code",
   "execution_count": 277,
   "id": "8675c885-7306-469a-9105-fb852eb2d2e5",
   "metadata": {},
   "outputs": [
    {
     "name": "stdout",
     "output_type": "stream",
     "text": [
      "torch.Size([4, 8])\n",
      "tensor([[1, 8, 7, 1, 1, 4, 5, 6],\n",
      "        [8, 8, 5, 2, 6, 1, 9, 8],\n",
      "        [9, 4, 2, 6, 2, 7, 7, 1],\n",
      "        [5, 5, 5, 6, 2, 7, 1, 2]])\n",
      "tensor([False, False, False, False,  True,  True, False, False])\n",
      "tensor([4, 5])\n",
      "tensor([[4, 5],\n",
      "        [4, 5],\n",
      "        [4, 5],\n",
      "        [4, 5]])\n",
      "torch.Size([4, 2])\n",
      "torch.Size([4, 2, 16])\n",
      "[[[5, 6, 8, 0, 9], [5, 1, 7, 3, 0]], [[12, 2, 15, 7, 4], [0, 2, 1, 8, 7]], [[10, 14, 13, 9, 15], [11, 9, 4, 14, 6]], [[0, 12, 4, 11, 1], [10, 1, 15, 0, 13]]]\n",
      "tensor([[1, 4],\n",
      "        [6, 1],\n",
      "        [2, 7],\n",
      "        [2, 7]])\n",
      "tensor([[1, 1],\n",
      "        [3, 2],\n",
      "        [2, 9],\n",
      "        [3, 6]])\n",
      "tensor([[1, 4, 1, 1],\n",
      "        [6, 1, 3, 2],\n",
      "        [2, 7, 2, 9],\n",
      "        [2, 7, 3, 6]])\n"
     ]
    }
   ],
   "source": [
    "_B, _T, _D, _K = 4, 8, 16, 3\n",
    "_logits = torch.rand(size=(_B,_T,_D))\n",
    "_labels = torch.randint(1,10,size=(_B, _T))\n",
    "print (_labels.shape)\n",
    "print (_labels)\n",
    "_mask_pos = torch.rand(size=(_T,))<0.2\n",
    "# _mask_pos = torch.tensor([False]*(_T-1)+[True])\n",
    "print (_mask_pos)\n",
    "_mask_pos = torch.where(_mask_pos)[0]\n",
    "print (_mask_pos)\n",
    "_mask_pos = _mask_pos.expand(_B, -1)\n",
    "print (_mask_pos)\n",
    "print (_mask_pos.shape)\n",
    "_logits = _logits.gather(1, _mask_pos.unsqueeze(-1).expand(-1, -1, _D))\n",
    "print (_logits.shape)\n",
    "print (_logits.topk(5, dim=-1).indices.cpu().tolist())\n",
    "_labels = _labels.gather(1, _mask_pos)\n",
    "print (_labels)\n",
    "_neg_sample = torch.randint(1,10,size=(_B, 2))\n",
    "print  (_neg_sample)\n",
    "_candidates = torch.cat((_labels, _neg_sample), dim=1)\n",
    "print (_candidates)"
   ]
  },
  {
   "cell_type": "code",
   "execution_count": 278,
   "id": "12d97a12-e4c9-40b3-beef-152c381b5fef",
   "metadata": {},
   "outputs": [
    {
     "name": "stdout",
     "output_type": "stream",
     "text": [
      "tensor([[False,  True, False,  True],\n",
      "        [ True, False, False,  True]])\n",
      "(tensor([0, 0, 1, 1]), tensor([1, 3, 0, 3]))\n"
     ]
    }
   ],
   "source": [
    "_mask = torch.tensor([\n",
    "    [False, True, False, True],\n",
    "    [True, False, False, True]\n",
    "])\n",
    "print (_mask)\n",
    "print (torch.where(_mask))"
   ]
  },
  {
   "cell_type": "code",
   "execution_count": 275,
   "id": "9a3b967c-ba98-4ec0-94a5-441dcf0d7c24",
   "metadata": {},
   "outputs": [
    {
     "name": "stdout",
     "output_type": "stream",
     "text": [
      "tensor([[False,  True, False, False, False,  True, False,  True],\n",
      "        [False, False, False, False, False,  True,  True, False],\n",
      "        [ True, False, False, False, False, False, False, False],\n",
      "        [False,  True, False, False, False, False, False, False]])\n",
      "(tensor([0, 0, 0, 1, 1, 2, 3]), tensor([1, 5, 7, 5, 6, 0, 1]))\n",
      "tensor([[5, 4, 6, 2, 6, 6, 9, 7],\n",
      "        [6, 1, 4, 1, 3, 7, 6, 2],\n",
      "        [5, 3, 2, 9, 9, 1, 1, 4],\n",
      "        [6, 6, 3, 6, 7, 7, 4, 1]])\n"
     ]
    },
    {
     "ename": "RuntimeError",
     "evalue": "gather(): Expected dtype int64 for index",
     "output_type": "error",
     "traceback": [
      "\u001b[31m---------------------------------------------------------------------------\u001b[39m",
      "\u001b[31mRuntimeError\u001b[39m                              Traceback (most recent call last)",
      "\u001b[36mCell\u001b[39m\u001b[36m \u001b[39m\u001b[32mIn[275]\u001b[39m\u001b[32m, line 6\u001b[39m\n\u001b[32m      4\u001b[39m _labels = torch.randint(\u001b[32m1\u001b[39m,\u001b[32m10\u001b[39m,size=(_B, _T))\n\u001b[32m      5\u001b[39m \u001b[38;5;28mprint\u001b[39m (_labels)\n\u001b[32m----> \u001b[39m\u001b[32m6\u001b[39m \u001b[38;5;28mprint\u001b[39m (\u001b[43m_labels\u001b[49m\u001b[43m.\u001b[49m\u001b[43mgather\u001b[49m\u001b[43m(\u001b[49m\u001b[32;43m1\u001b[39;49m\u001b[43m,\u001b[49m\u001b[43m \u001b[49m\u001b[43m_mask\u001b[49m\u001b[43m)\u001b[49m)\n",
      "\u001b[31mRuntimeError\u001b[39m: gather(): Expected dtype int64 for index"
     ]
    }
   ],
   "source": [
    "_mask = torch.rand(size=(_B, _T))<0.3\n",
    "print (_mask)\n",
    "print (torch.where(_mask))\n",
    "_labels = torch.randint(1,10,size=(_B, _T))\n",
    "print (_labels)\n",
    "print (_labels.gather(1, _mask))"
   ]
  },
  {
   "cell_type": "code",
   "execution_count": 292,
   "id": "1c8732bc-3ac5-4c4d-94ae-2511f48c274e",
   "metadata": {},
   "outputs": [
    {
     "name": "stdout",
     "output_type": "stream",
     "text": [
      "tensor([[6, 5, 2, 8, 5, 7, 9, 2],\n",
      "        [8, 6, 8, 3, 2, 4, 4, 8],\n",
      "        [7, 6, 5, 3, 5, 5, 3, 2],\n",
      "        [6, 2, 5, 1, 2, 1, 8, 3]])\n",
      "tensor([[2],\n",
      "        [8],\n",
      "        [2],\n",
      "        [3]])\n",
      "tensor([[8, 4],\n",
      "        [4, 2],\n",
      "        [1, 5],\n",
      "        [3, 7]])\n",
      "tensor([[2, 8, 4],\n",
      "        [8, 4, 2],\n",
      "        [2, 1, 5],\n",
      "        [3, 3, 7]])\n"
     ]
    }
   ],
   "source": [
    "_arr = torch.randint(1,10,size=(4,8))\n",
    "print (_arr)\n",
    "_arr = _arr[:,-1].unsqueeze(-1)\n",
    "print (_arr)\n",
    "_neg_sample = torch.randint(1,10,size=(4, 2))\n",
    "print (_neg_sample)\n",
    "print (torch.cat((_arr, _neg_sample), dim=1))"
   ]
  },
  {
   "cell_type": "markdown",
   "id": "c3ce44ac-71e6-4ae9-8244-5694eb231885",
   "metadata": {},
   "source": [
    "## Bert4rec"
   ]
  },
  {
   "cell_type": "code",
   "execution_count": 1,
   "id": "c3bf86d4-6674-44e8-a201-a643ad295bd4",
   "metadata": {},
   "outputs": [
    {
     "name": "stderr",
     "output_type": "stream",
     "text": [
      "/Users/avijitm/miniconda3/envs/transformers/lib/python3.11/site-packages/tqdm/auto.py:21: TqdmWarning: IProgress not found. Please update jupyter and ipywidgets. See https://ipywidgets.readthedocs.io/en/stable/user_install.html\n",
      "  from .autonotebook import tqdm as notebook_tqdm\n"
     ]
    }
   ],
   "source": [
    "import os\n",
    "import pandas as pd\n",
    "import numpy as np\n",
    "import torch\n",
    "import torch.nn as nn\n",
    "import numpy as np\n",
    "from torch.utils.data import DataLoader, Dataset\n",
    "from torchvision import datasets, transforms\n",
    "from torchvision.transforms import ToTensor\n",
    "import torch.nn.functional as F\n",
    "import matplotlib.pyplot as plt\n",
    "from collections import defaultdict\n",
    "from sklearn.metrics import ndcg_score\n",
    "import evaluate"
   ]
  },
  {
   "cell_type": "code",
   "execution_count": 2,
   "id": "bbafff72-10e1-4fd7-b282-d1624e184e9f",
   "metadata": {},
   "outputs": [
    {
     "name": "stdout",
     "output_type": "stream",
     "text": [
      "cpu\n"
     ]
    }
   ],
   "source": [
    "device = 'cuda' if torch.cuda.is_available() else 'cpu'\n",
    "print(device)"
   ]
  },
  {
   "cell_type": "markdown",
   "id": "8dcd65fb-3ee5-4537-a6a3-5a1696207e67",
   "metadata": {},
   "source": [
    "## Data"
   ]
  },
  {
   "cell_type": "code",
   "execution_count": 3,
   "id": "e85be08b-ccac-4f2a-a114-2afa2313b117",
   "metadata": {},
   "outputs": [],
   "source": [
    "data_dir = './ml-1m'"
   ]
  },
  {
   "cell_type": "code",
   "execution_count": 4,
   "id": "a769d7a8-c052-4c17-9e65-82a927847566",
   "metadata": {},
   "outputs": [],
   "source": [
    "ratings = pd.read_csv(\n",
    "    f'{data_dir}/ratings.dat',sep='::',\n",
    "    engine='python',  # Use 'python' engine to handle the separator correctly\n",
    "    encoding='latin-1',  # Important for handling special characters\n",
    "    header=None,\n",
    "    names=['UserID', 'MovieID', 'Rating', 'Timestamp']\n",
    ")"
   ]
  },
  {
   "cell_type": "code",
   "execution_count": 5,
   "id": "a8c2d7f4-1b7c-4859-99fe-ac53683244a1",
   "metadata": {},
   "outputs": [
    {
     "data": {
      "text/html": [
       "<div>\n",
       "<style scoped>\n",
       "    .dataframe tbody tr th:only-of-type {\n",
       "        vertical-align: middle;\n",
       "    }\n",
       "\n",
       "    .dataframe tbody tr th {\n",
       "        vertical-align: top;\n",
       "    }\n",
       "\n",
       "    .dataframe thead th {\n",
       "        text-align: right;\n",
       "    }\n",
       "</style>\n",
       "<table border=\"1\" class=\"dataframe\">\n",
       "  <thead>\n",
       "    <tr style=\"text-align: right;\">\n",
       "      <th></th>\n",
       "      <th>UserID</th>\n",
       "      <th>MovieID</th>\n",
       "      <th>Rating</th>\n",
       "      <th>Timestamp</th>\n",
       "    </tr>\n",
       "  </thead>\n",
       "  <tbody>\n",
       "    <tr>\n",
       "      <th>0</th>\n",
       "      <td>1</td>\n",
       "      <td>1193</td>\n",
       "      <td>5</td>\n",
       "      <td>978300760</td>\n",
       "    </tr>\n",
       "    <tr>\n",
       "      <th>1</th>\n",
       "      <td>1</td>\n",
       "      <td>661</td>\n",
       "      <td>3</td>\n",
       "      <td>978302109</td>\n",
       "    </tr>\n",
       "    <tr>\n",
       "      <th>2</th>\n",
       "      <td>1</td>\n",
       "      <td>914</td>\n",
       "      <td>3</td>\n",
       "      <td>978301968</td>\n",
       "    </tr>\n",
       "    <tr>\n",
       "      <th>3</th>\n",
       "      <td>1</td>\n",
       "      <td>3408</td>\n",
       "      <td>4</td>\n",
       "      <td>978300275</td>\n",
       "    </tr>\n",
       "    <tr>\n",
       "      <th>4</th>\n",
       "      <td>1</td>\n",
       "      <td>2355</td>\n",
       "      <td>5</td>\n",
       "      <td>978824291</td>\n",
       "    </tr>\n",
       "  </tbody>\n",
       "</table>\n",
       "</div>"
      ],
      "text/plain": [
       "   UserID  MovieID  Rating  Timestamp\n",
       "0       1     1193       5  978300760\n",
       "1       1      661       3  978302109\n",
       "2       1      914       3  978301968\n",
       "3       1     3408       4  978300275\n",
       "4       1     2355       5  978824291"
      ]
     },
     "metadata": {},
     "output_type": "display_data"
    },
    {
     "data": {
      "text/plain": [
       "(1000209, 4)"
      ]
     },
     "execution_count": 5,
     "metadata": {},
     "output_type": "execute_result"
    }
   ],
   "source": [
    "display (ratings.head())\n",
    "ratings.shape"
   ]
  },
  {
   "cell_type": "code",
   "execution_count": 6,
   "id": "12d8595b-2382-40e6-90e0-8d8ae3810174",
   "metadata": {},
   "outputs": [
    {
     "data": {
      "text/plain": [
       "3706"
      ]
     },
     "execution_count": 6,
     "metadata": {},
     "output_type": "execute_result"
    }
   ],
   "source": [
    "len(ratings.MovieID.unique())"
   ]
  },
  {
   "cell_type": "code",
   "execution_count": 7,
   "id": "c9973ab6-3604-4a74-9f88-ac53cce92b05",
   "metadata": {},
   "outputs": [
    {
     "data": {
      "text/html": [
       "<div>\n",
       "<style scoped>\n",
       "    .dataframe tbody tr th:only-of-type {\n",
       "        vertical-align: middle;\n",
       "    }\n",
       "\n",
       "    .dataframe tbody tr th {\n",
       "        vertical-align: top;\n",
       "    }\n",
       "\n",
       "    .dataframe thead th {\n",
       "        text-align: right;\n",
       "    }\n",
       "</style>\n",
       "<table border=\"1\" class=\"dataframe\">\n",
       "  <thead>\n",
       "    <tr style=\"text-align: right;\">\n",
       "      <th></th>\n",
       "      <th>UserID</th>\n",
       "      <th>MovieID</th>\n",
       "      <th>Rating</th>\n",
       "      <th>Timestamp</th>\n",
       "      <th>movie_idx</th>\n",
       "    </tr>\n",
       "  </thead>\n",
       "  <tbody>\n",
       "    <tr>\n",
       "      <th>0</th>\n",
       "      <td>1</td>\n",
       "      <td>1193</td>\n",
       "      <td>5</td>\n",
       "      <td>978300760</td>\n",
       "      <td>1</td>\n",
       "    </tr>\n",
       "    <tr>\n",
       "      <th>1</th>\n",
       "      <td>1</td>\n",
       "      <td>661</td>\n",
       "      <td>3</td>\n",
       "      <td>978302109</td>\n",
       "      <td>2</td>\n",
       "    </tr>\n",
       "    <tr>\n",
       "      <th>2</th>\n",
       "      <td>1</td>\n",
       "      <td>914</td>\n",
       "      <td>3</td>\n",
       "      <td>978301968</td>\n",
       "      <td>3</td>\n",
       "    </tr>\n",
       "    <tr>\n",
       "      <th>3</th>\n",
       "      <td>1</td>\n",
       "      <td>3408</td>\n",
       "      <td>4</td>\n",
       "      <td>978300275</td>\n",
       "      <td>4</td>\n",
       "    </tr>\n",
       "    <tr>\n",
       "      <th>4</th>\n",
       "      <td>1</td>\n",
       "      <td>2355</td>\n",
       "      <td>5</td>\n",
       "      <td>978824291</td>\n",
       "      <td>5</td>\n",
       "    </tr>\n",
       "  </tbody>\n",
       "</table>\n",
       "</div>"
      ],
      "text/plain": [
       "   UserID  MovieID  Rating  Timestamp  movie_idx\n",
       "0       1     1193       5  978300760          1\n",
       "1       1      661       3  978302109          2\n",
       "2       1      914       3  978301968          3\n",
       "3       1     3408       4  978300275          4\n",
       "4       1     2355       5  978824291          5"
      ]
     },
     "execution_count": 7,
     "metadata": {},
     "output_type": "execute_result"
    }
   ],
   "source": [
    "movie_idx = {}\n",
    "for idx, movie in enumerate(ratings.MovieID.unique()):\n",
    "    movie_idx[movie] = idx+1\n",
    "ratings['movie_idx'] = ratings.MovieID.apply(lambda x: movie_idx[x])\n",
    "ratings.head()"
   ]
  },
  {
   "cell_type": "code",
   "execution_count": 8,
   "id": "4a022019-68b7-4e84-99c2-09519c1c14e5",
   "metadata": {},
   "outputs": [],
   "source": [
    "data = ratings.groupby('UserID')[['movie_idx','Timestamp']].apply(lambda x: x.sort_values('Timestamp').movie_idx.agg(list)).to_dict()"
   ]
  },
  {
   "cell_type": "code",
   "execution_count": 9,
   "id": "62ce579b-426b-4ed6-bf4a-c11640f0477c",
   "metadata": {},
   "outputs": [
    {
     "data": {
      "text/plain": [
       "(53,\n",
       " [32, 28, 38, 23, 25, 37, 4, 48, 8, 22],\n",
       " [34, 17, 30, 11, 31, 36, 5, 35, 33, 26])"
      ]
     },
     "execution_count": 9,
     "metadata": {},
     "output_type": "execute_result"
    }
   ],
   "source": [
    "len(data[1]), data[1][:10], data[1][-10:]"
   ]
  },
  {
   "cell_type": "code",
   "execution_count": 10,
   "id": "c9bb199c-4da9-4f80-a290-5c012b2e565d",
   "metadata": {},
   "outputs": [
    {
     "data": {
      "text/plain": [
       "78"
      ]
     },
     "execution_count": 10,
     "metadata": {},
     "output_type": "execute_result"
    }
   ],
   "source": [
    "low_rated_movies = np.where(ratings.groupby('movie_idx').Rating.max()<=2)[0]\n",
    "len(low_rated_movies)"
   ]
  },
  {
   "cell_type": "code",
   "execution_count": 12,
   "id": "139c3525-799a-4f83-978e-315fc6af7e33",
   "metadata": {},
   "outputs": [
    {
     "data": {
      "text/plain": [
       "3533"
      ]
     },
     "execution_count": 12,
     "metadata": {},
     "output_type": "execute_result"
    }
   ],
   "source": [
    "popular_movies = np.where(ratings.groupby('movie_idx').Rating.max()>=4)[0]\n",
    "len(popular_movies)"
   ]
  },
  {
   "cell_type": "code",
   "execution_count": 13,
   "id": "78fabc84-4c47-4153-8d67-84ff3d49ee1e",
   "metadata": {},
   "outputs": [
    {
     "name": "stdout",
     "output_type": "stream",
     "text": [
      "3707\n"
     ]
    }
   ],
   "source": [
    "vocab_size = max(movie_idx.values())+1\n",
    "print (vocab_size)"
   ]
  },
  {
   "cell_type": "code",
   "execution_count": 20,
   "id": "c54e7e99-9923-40c9-aea2-a33a7adc6228",
   "metadata": {},
   "outputs": [],
   "source": [
    "class Bert4RecDataset(Dataset):\n",
    "    def __init__(self, data, low_rated_movies, context_len, mask_prob, split):\n",
    "        super(Bert4RecDataset, self).__init__()\n",
    "        self.context_len = context_len\n",
    "        self.mask_prob = mask_prob\n",
    "        self.data = data\n",
    "        self.split = split\n",
    "    def __len__(self):\n",
    "        return len(self.data)\n",
    "    def get_negative_sample(self, user):\n",
    "        movies_watched = self.data.get(user+1, [])\n",
    "        negatives = popular_movies[~np.isin(popular_movies, movies_watched)]\n",
    "        neg_sample = torch.tensor(np.random.choice(negatives, size=50, replace=False), dtype=torch.long)\n",
    "        return neg_sample\n",
    "        \n",
    "    def __getitem__(self, user):\n",
    "        seq = self.data.get(user+1, [])\n",
    "        seq = seq[-(self.context_len+1):]\n",
    "        pad_len = self.context_len+1 - len(seq)\n",
    "        seq = [0] * pad_len + seq\n",
    "        if self.split == 'train':\n",
    "            tokens = torch.tensor(seq[-(self.context_len+1):-1], dtype=torch.long)\n",
    "            labels = torch.full_like(tokens, fill_value=-100)\n",
    "            mask_pos = np.random.rand(self.context_len) < self.mask_prob\n",
    "            mask_pos[tokens==0] = False # don't mask padded tokens\n",
    "            # print (tokens.shape, labels.shape, mask_pos.shape)\n",
    "            labels[mask_pos] = tokens[mask_pos]\n",
    "            tokens[mask_pos]=0\n",
    "            neg_sample = torch.tensor([])\n",
    "        else:\n",
    "            tokens = torch.tensor(seq[-self.context_len:], dtype=torch.long)\n",
    "            labels = torch.full_like(tokens, fill_value=-100)\n",
    "            mask_pos = torch.tensor([False]*(self.context_len-1)+[True])\n",
    "            mask_pos[tokens==0] = False # don't mask padded tokens\n",
    "            # print (tokens.shape, labels.shape, mask_pos.shape)\n",
    "            labels[mask_pos] = tokens[mask_pos]\n",
    "            tokens[mask_pos]=0\n",
    "            # neg_sample = torch.tensor(np.random.choice(low_rated_movies, size=50, replace=False), dtype=torch.long)\n",
    "            neg_sample = self.get_negative_sample(user)\n",
    "        return {\n",
    "            'user': user,\n",
    "            'tokens': tokens,\n",
    "            # 'mask_pos': torch.tensor(mask_pos, dtype=torch.bool),\n",
    "            'labels': labels,\n",
    "            'neg_sample': neg_sample\n",
    "        }"
   ]
  },
  {
   "cell_type": "code",
   "execution_count": 21,
   "id": "7875518b-44b4-434d-b53b-230ab28b0e69",
   "metadata": {},
   "outputs": [
    {
     "name": "stdout",
     "output_type": "stream",
     "text": [
      "189 189\n"
     ]
    }
   ],
   "source": [
    "train_data = Bert4RecDataset(data, low_rated_movies, context_len=32, mask_prob=0.2, split='train')\n",
    "eval_data = Bert4RecDataset(data, low_rated_movies, context_len=32, mask_prob=0.2, split='eval')\n",
    "\n",
    "from torch.utils.data import DataLoader\n",
    "\n",
    "train_dataloader = DataLoader(dataset=train_data, batch_size=32, shuffle=True)\n",
    "eval_dataloader = DataLoader(dataset=eval_data, batch_size=32, shuffle=True)\n",
    "\n",
    "# Let's see no of batches that we have now with the current batch-size\n",
    "print (len(train_dataloader), len(eval_dataloader))"
   ]
  },
  {
   "cell_type": "markdown",
   "id": "648ef723-5c78-4d26-9a01-28603c0411d8",
   "metadata": {},
   "source": [
    "## Model"
   ]
  },
  {
   "cell_type": "code",
   "execution_count": 41,
   "id": "5e352920-d2d6-4084-a906-476f9040bc19",
   "metadata": {},
   "outputs": [
    {
     "data": {
      "text/plain": [
       "BERT4Rec(\n",
       "  (item_embedding): Embedding(3707, 256, padding_idx=0)\n",
       "  (position_embedding): Embedding(32, 256)\n",
       "  (encoder): TransformerEncoder(\n",
       "    (layers): ModuleList(\n",
       "      (0-1): 2 x TransformerEncoderLayer(\n",
       "        (self_attn): MultiheadAttention(\n",
       "          (out_proj): NonDynamicallyQuantizableLinear(in_features=256, out_features=256, bias=True)\n",
       "        )\n",
       "        (linear1): Linear(in_features=256, out_features=1024, bias=True)\n",
       "        (dropout): Dropout(p=0.1, inplace=False)\n",
       "        (linear2): Linear(in_features=1024, out_features=256, bias=True)\n",
       "        (norm1): LayerNorm((256,), eps=1e-05, elementwise_affine=True)\n",
       "        (norm2): LayerNorm((256,), eps=1e-05, elementwise_affine=True)\n",
       "        (dropout1): Dropout(p=0.1, inplace=False)\n",
       "        (dropout2): Dropout(p=0.1, inplace=False)\n",
       "      )\n",
       "    )\n",
       "  )\n",
       "  (layer_norm): LayerNorm((256,), eps=1e-05, elementwise_affine=True)\n",
       "  (output_layer): Linear(in_features=256, out_features=3707, bias=True)\n",
       ")"
      ]
     },
     "execution_count": 41,
     "metadata": {},
     "output_type": "execute_result"
    }
   ],
   "source": [
    "class BERT4Rec(nn.Module):\n",
    "    def __init__(self, vocab_size, context_len=32, d_model=256, num_heads=4, num_layers=2, dropout=0.1):\n",
    "        super(BERT4Rec, self).__init__()\n",
    "\n",
    "        self.d_model = d_model\n",
    "        self.context_len = context_len\n",
    "        self.item_embedding = nn.Embedding(vocab_size, d_model, padding_idx=0)\n",
    "        self.position_embedding = nn.Embedding(context_len, d_model)\n",
    "\n",
    "        encoder_layer = nn.TransformerEncoderLayer(\n",
    "            d_model=d_model,\n",
    "            nhead=num_heads,\n",
    "            dim_feedforward=4*d_model,\n",
    "            dropout=dropout,\n",
    "            batch_first=True\n",
    "        )\n",
    "        self.encoder = nn.TransformerEncoder(encoder_layer, num_layers=num_layers)\n",
    "\n",
    "        self.layer_norm = nn.LayerNorm(d_model)\n",
    "        self.output_layer = nn.Linear(d_model, vocab_size)\n",
    "\n",
    "    def forward(self, input_seq):\n",
    "        \"\"\"\n",
    "        input_seq: [B, T] - sequence of item IDs (0 = PAD and MASK)\n",
    "        masked_pos: [B, K] - positions in the sequence we want to predict\n",
    "        \"\"\"\n",
    "        B, T = input_seq.size()\n",
    "        positions = torch.arange(T, device=input_seq.device).unsqueeze(0).expand(B, T)\n",
    "\n",
    "        x = self.item_embedding(input_seq) + self.position_embedding(positions)\n",
    "\n",
    "        attention_mask = (input_seq != 0) # avoid attending padded and masked tokens\n",
    "\n",
    "        x = self.encoder(x, src_key_padding_mask=~attention_mask)\n",
    "        # x = self.layer_norm(x)\n",
    "\n",
    "        logits = self.output_layer(x)  # [B, T, vocab_size]\n",
    "        return logits\n",
    "\n",
    "bert4rec_model = BERT4Rec(vocab_size, context_len=32, d_model=256, num_heads=4, num_layers=2, dropout=0.1)\n",
    "bert4rec_model.to(device)"
   ]
  },
  {
   "cell_type": "markdown",
   "id": "b011c574-5f05-4d5d-bc9a-e819e126ab34",
   "metadata": {},
   "source": [
    "## Train and Eval functions"
   ]
  },
  {
   "cell_type": "code",
   "execution_count": 43,
   "id": "bebabe55-f7eb-4f48-8592-dacb444edf23",
   "metadata": {},
   "outputs": [],
   "source": [
    "def train(model, optimizer, loss_fn, train_dataloader, device):\n",
    "    print ('training')\n",
    "    model.train()\n",
    "    train_loss = 0\n",
    "    for step, batch in enumerate(train_dataloader):\n",
    "        tokens = batch['tokens'].to(device)\n",
    "        labels = batch['labels'].to(device)\n",
    "        # mask_pos = batch['mask_pos'].to(device)\n",
    "        # print (mask_pos.shape) #[B, T]\n",
    "        # mask_pos = torch.where(mask_pos)[0]\n",
    "        # print (mask_pos.shape) #[B, K]\n",
    "        # no need to get neg_sample training stage\n",
    "\n",
    "        optimizer.zero_grad()\n",
    "\n",
    "        logits = model(tokens) # [B, T, vocab_size]\n",
    "        B, T, d_model = logits.shape\n",
    "        # print (logits.shape)\n",
    "        # logits = logits.gather(1, mask_pos.unsqueeze(-1).expand(-1, -1, d_model)) # [B, K, d_model]\n",
    "        # targets = labels.gather(1, mask_pos) # [B, K]\n",
    "        # loss = loss_fn(logits.view(-1, logits.size(-1)), targets.view(-1))\n",
    "        loss = loss_fn(logits.view(-1, logits.size(-1)), labels.view(-1))\n",
    "        train_loss += loss\n",
    "\n",
    "        loss.backward()\n",
    "        optimizer.step()\n",
    "\n",
    "        # if step%100==0:\n",
    "        #      print (f'training loss at {step} is {train_loss}')\n",
    "    return train_loss/len(train_dataloader)\n",
    "\n",
    "@torch.no_grad()\n",
    "def eval(model, loss_fn, eval_dataloader, device):\n",
    "    model.eval()\n",
    "    eval_loss = 0\n",
    "    metric_accuracy = evaluate.load(\"accuracy\")\n",
    "    ndcg_scores = []\n",
    "    for step, batch in enumerate(eval_dataloader):\n",
    "        tokens = batch['tokens'].to(device)\n",
    "        labels = batch['labels'].to(device)\n",
    "        # mask_pos = batch['mask_pos'].to(device)\n",
    "        neg_sample = batch['neg_sample']\n",
    "\n",
    "        # mask_pos = torch.where(mask_pos)[0]\n",
    "        B, N = neg_sample.shape\n",
    "\n",
    "        logits = model(tokens) # [B, T, vocab_size]\n",
    "        B, T, V = logits.shape\n",
    "        # print (tokens.shape, labels.shape, logits.shape)\n",
    "        # logits = logits.gather(1, mask_pos.unsqueeze(-1).expand(-1, -1, d_model))\n",
    "        # targets = labels.gather(1, mask_pos) # [B, K] -- K=1 in eval\n",
    "        # B, K = targets.shape\n",
    "        loss = loss_fn(logits.view(-1, logits.size(-1)), labels.view(-1))\n",
    "        eval_loss += loss\n",
    "\n",
    "        targets = labels[:,-1].unsqueeze(-1)\n",
    "        # print (targets.shape) # B, K\n",
    "        B, K = targets.shape\n",
    "        candidates = torch.cat((targets, neg_sample), dim=1)\n",
    "        # print (candidates.shape) # B, K+N\n",
    "\n",
    "        logits = logits[:, -1, :]  # last position\n",
    "        metric_accuracy.add_batch(predictions=logits.argmax(dim=1), references=targets)\n",
    "        _ndcg10 = ndcg_score(np.broadcast_to(np.array([1]*K+[0]*N),(B,K+N)), logits.gather(1, candidates).cpu())\n",
    "        ndcg_scores.append(_ndcg10)\n",
    "        # print (logits.shape) # B, V\n",
    "        # scores = logits.gather(1, candidates).cpu()\n",
    "        # # print (scores.shape)\n",
    "        # for i in range(scores.shape[0]):\n",
    "        #     y_true = np.array([1]*K+[0]*N)\n",
    "        #     ndcg_scores.append(ndcg_score(y_true.reshape(1, K+N), scores[i].reshape(1, K+N), k=10))\n",
    "    # ndcg_scores = np.array(ndcg_scores)\n",
    "    accuracy = metric_accuracy.compute()\n",
    "    print (f'Eval loss: {eval_loss/len(eval_dataloader)}')\n",
    "    print (f'NDCG: {np.mean(ndcg_scores)}')\n",
    "    print (f'Accuracy: {accuracy}')\n",
    "    return eval_loss/len(eval_dataloader), np.mean(ndcg_scores), accuracy"
   ]
  },
  {
   "cell_type": "markdown",
   "id": "a4125d3e-649a-4297-895d-4c00695ffbaf",
   "metadata": {},
   "source": [
    "## Model training"
   ]
  },
  {
   "cell_type": "code",
   "execution_count": 46,
   "id": "e6f79155-29b8-42b9-b00d-45144ae80e82",
   "metadata": {},
   "outputs": [],
   "source": [
    "from torch.optim import AdamW\n",
    "from transformers import get_scheduler\n",
    "\n",
    "optimizer = AdamW(bert4rec_model.parameters(), lr=1e-3)\n",
    "num_epochs = 10\n",
    "num_training_steps = num_epochs * len(train_dataloader)\n",
    "\n",
    "lr_scheduler = get_scheduler(\n",
    "    name=\"linear\", optimizer=optimizer, num_warmup_steps=0, num_training_steps=num_training_steps\n",
    ")\n",
    "\n",
    "loss_fn = nn.CrossEntropyLoss(ignore_index=-100)"
   ]
  },
  {
   "cell_type": "code",
   "execution_count": 48,
   "id": "4d299300-52dc-4ce2-936b-c748f3f9f910",
   "metadata": {},
   "outputs": [
    {
     "name": "stdout",
     "output_type": "stream",
     "text": [
      "training\n",
      "train loss at epoch 0 is 6.545655727386475\n",
      "Eval loss: 6.9343438148498535\n",
      "NDCG: 0.5735814456561721\n",
      "Accuracy: {'accuracy': 0.011589403973509934}\n",
      "eval loss at epoch 0 is 6.9343438148498535\n",
      "eval NDCG@10 at epoch 0 is 0.5735814456561721\n",
      "training\n",
      "train loss at epoch 1 is 6.477384567260742\n",
      "Eval loss: 6.815270900726318\n",
      "NDCG: 0.5888803394498596\n",
      "Accuracy: {'accuracy': 0.011920529801324504}\n",
      "eval loss at epoch 1 is 6.815270900726318\n",
      "eval NDCG@10 at epoch 1 is 0.5888803394498596\n",
      "training\n",
      "train loss at epoch 2 is 6.413047790527344\n",
      "Eval loss: 6.8117780685424805\n",
      "NDCG: 0.591340426774445\n",
      "Accuracy: {'accuracy': 0.012913907284768211}\n",
      "eval loss at epoch 2 is 6.8117780685424805\n",
      "eval NDCG@10 at epoch 2 is 0.591340426774445\n",
      "training\n",
      "train loss at epoch 3 is 6.342720985412598\n",
      "Eval loss: 6.7819390296936035\n",
      "NDCG: 0.5907602979565334\n",
      "Accuracy: {'accuracy': 0.014403973509933774}\n",
      "eval loss at epoch 3 is 6.7819390296936035\n",
      "eval NDCG@10 at epoch 3 is 0.5907602979565334\n",
      "training\n",
      "train loss at epoch 4 is 6.2970099449157715\n",
      "Eval loss: 6.781773090362549\n",
      "NDCG: 0.5983368334912833\n",
      "Accuracy: {'accuracy': 0.01076158940397351}\n",
      "eval loss at epoch 4 is 6.781773090362549\n",
      "eval NDCG@10 at epoch 4 is 0.5983368334912833\n",
      "training\n",
      "train loss at epoch 5 is 6.270456790924072\n",
      "Eval loss: 6.719742774963379\n",
      "NDCG: 0.6047209194847746\n",
      "Accuracy: {'accuracy': 0.015231788079470199}\n",
      "eval loss at epoch 5 is 6.719742774963379\n",
      "eval NDCG@10 at epoch 5 is 0.6047209194847746\n",
      "training\n",
      "train loss at epoch 6 is 6.202394485473633\n",
      "Eval loss: 6.609767913818359\n",
      "NDCG: 0.6214517171457324\n",
      "Accuracy: {'accuracy': 0.023344370860927152}\n",
      "eval loss at epoch 6 is 6.609767913818359\n",
      "eval NDCG@10 at epoch 6 is 0.6214517171457324\n",
      "training\n",
      "train loss at epoch 7 is 6.157425403594971\n",
      "Eval loss: 6.677536964416504\n",
      "NDCG: 0.6138169000490868\n",
      "Accuracy: {'accuracy': 0.0173841059602649}\n",
      "eval loss at epoch 7 is 6.677536964416504\n",
      "eval NDCG@10 at epoch 7 is 0.6138169000490868\n",
      "training\n",
      "train loss at epoch 8 is 6.118148326873779\n",
      "Eval loss: 6.693255424499512\n",
      "NDCG: 0.6151142280807901\n",
      "Accuracy: {'accuracy': 0.013741721854304636}\n",
      "eval loss at epoch 8 is 6.693255424499512\n",
      "eval NDCG@10 at epoch 8 is 0.6151142280807901\n",
      "training\n",
      "train loss at epoch 9 is 6.091517925262451\n",
      "Eval loss: 6.598973274230957\n",
      "NDCG: 0.6241975459125448\n",
      "Accuracy: {'accuracy': 0.018543046357615896}\n",
      "eval loss at epoch 9 is 6.598973274230957\n",
      "eval NDCG@10 at epoch 9 is 0.6241975459125448\n"
     ]
    }
   ],
   "source": [
    "for epoch in range(num_epochs):\n",
    "  train_loss = train(bert4rec_model, optimizer, loss_fn, train_dataloader, device)\n",
    "  print (f'train loss at epoch {epoch} is {train_loss}')\n",
    "  eval_loss, eval_ndcg10, accuracy = eval(bert4rec_model, loss_fn, eval_dataloader, device)\n",
    "  print (f'eval loss at epoch {epoch} is {eval_loss}')\n",
    "  print (f'eval NDCG@10 at epoch {epoch} is {eval_ndcg10}')"
   ]
  },
  {
   "cell_type": "markdown",
   "id": "44fd83a2-b6e7-4338-929c-0af6dcb2a89b",
   "metadata": {},
   "source": [
    "## Test and checks"
   ]
  },
  {
   "cell_type": "code",
   "execution_count": 120,
   "id": "7d49fb85-def4-40b9-ab23-3df7eeb9ddee",
   "metadata": {},
   "outputs": [],
   "source": [
    "test_batch = next(iter(eval_dataloader))"
   ]
  },
  {
   "cell_type": "code",
   "execution_count": 121,
   "id": "e0c9d4d4-3710-4636-adb6-26b1f4e29229",
   "metadata": {},
   "outputs": [
    {
     "data": {
      "text/plain": [
       "{'user': tensor([4700, 4906, 1231, 2089, 5915,  217,  141, 1220, 1266, 5393,  393, 3963,\n",
       "         3820,  386, 4295, 1127, 3146, 5674, 1722, 3843, 3175, 3939, 4732,  584,\n",
       "         5166,  595, 2450, 3029, 2082, 4812, 1389, 1027]),\n",
       " 'tokens': tensor([[ 129,  501,  110,  ...,  874,  121,    0],\n",
       "         [1645, 1005, 1728,  ..., 2638, 1366,    0],\n",
       "         [ 204,  393,  615,  ..., 1201,  919,    0],\n",
       "         ...,\n",
       "         [1798, 1380, 1428,  ...,  518, 2065,    0],\n",
       "         [1381, 1191, 1067,  ..., 1151, 1435,    0],\n",
       "         [2033, 2448, 1903,  ...,  293,  247,    0]]),\n",
       " 'labels': tensor([[-100, -100, -100,  ..., -100, -100, 1518],\n",
       "         [-100, -100, -100,  ..., -100, -100, 1107],\n",
       "         [-100, -100, -100,  ..., -100, -100, 1281],\n",
       "         ...,\n",
       "         [-100, -100, -100,  ..., -100, -100, 1158],\n",
       "         [-100, -100, -100,  ..., -100, -100,  499],\n",
       "         [-100, -100, -100,  ..., -100, -100,  259]]),\n",
       " 'neg_sample': tensor([[3512, 3149, 3645,  ..., 3504, 3503, 3533],\n",
       "         [3399, 3539, 2404,  ..., 3640, 3435, 3696],\n",
       "         [2413, 3379, 3502,  ..., 3696, 3533, 3384],\n",
       "         ...,\n",
       "         [3495, 3501, 3533,  ..., 3365, 3502, 2248],\n",
       "         [3379, 3503, 3641,  ..., 3604, 3009, 3413],\n",
       "         [3503, 3534, 3522,  ..., 3539, 3685, 3673]])}"
      ]
     },
     "execution_count": 121,
     "metadata": {},
     "output_type": "execute_result"
    }
   ],
   "source": [
    "test_batch"
   ]
  },
  {
   "cell_type": "code",
   "execution_count": 122,
   "id": "79c09538-3f70-4e46-bbe3-4eb5898a5967",
   "metadata": {},
   "outputs": [
    {
     "data": {
      "text/plain": [
       "[105,\n",
       " 129,\n",
       " 501,\n",
       " 110,\n",
       " 281,\n",
       " 739,\n",
       " 195,\n",
       " 124,\n",
       " 1383,\n",
       " 157,\n",
       " 44,\n",
       " 337,\n",
       " 515,\n",
       " 1201,\n",
       " 39,\n",
       " 377,\n",
       " 1616,\n",
       " 165,\n",
       " 41,\n",
       " 51,\n",
       " 31,\n",
       " 970,\n",
       " 1312,\n",
       " 135,\n",
       " 553,\n",
       " 438,\n",
       " 383,\n",
       " 284,\n",
       " 1397,\n",
       " 265,\n",
       " 874,\n",
       " 121,\n",
       " 1518]"
      ]
     },
     "execution_count": 122,
     "metadata": {},
     "output_type": "execute_result"
    }
   ],
   "source": [
    "_user=4700\n",
    "_context_len=32\n",
    "_seq = data.get(_user+1, [])\n",
    "_seq = _seq[-(_context_len+1):]\n",
    "_pad_len = _context_len+1 - len(_seq)\n",
    "_seq = [0] * _pad_len + _seq\n",
    "_seq"
   ]
  },
  {
   "cell_type": "code",
   "execution_count": 123,
   "id": "cb868fe3-56be-4a14-8288-e5270f25bab3",
   "metadata": {},
   "outputs": [
    {
     "name": "stdout",
     "output_type": "stream",
     "text": [
      "torch.Size([32, 32]) 32 50\n"
     ]
    }
   ],
   "source": [
    "tokens = test_batch['tokens'].to(device)\n",
    "labels = test_batch['labels'].to(device)\n",
    "neg_sample = test_batch['neg_sample']\n",
    "\n",
    "B, N = neg_sample.shape\n",
    "print (tokens.shape, B, N)"
   ]
  },
  {
   "cell_type": "code",
   "execution_count": 124,
   "id": "ce5e2f16-806f-4ce8-a406-9c4f8fa96e00",
   "metadata": {},
   "outputs": [
    {
     "name": "stdout",
     "output_type": "stream",
     "text": [
      "32 32 3707\n"
     ]
    }
   ],
   "source": [
    "logits = bert4rec_model(tokens) # [B, T, vocab_size]\n",
    "B, T, V = logits.shape\n",
    "print (B, T, V)"
   ]
  },
  {
   "cell_type": "code",
   "execution_count": 125,
   "id": "4b6132bc-86ee-4a33-8345-3fef461281bd",
   "metadata": {},
   "outputs": [
    {
     "name": "stdout",
     "output_type": "stream",
     "text": [
      "tensor(7.7274, grad_fn=<NllLossBackward0>)\n"
     ]
    }
   ],
   "source": [
    "loss = loss_fn(logits.view(-1, logits.size(-1)), labels.view(-1))\n",
    "print (loss)"
   ]
  },
  {
   "cell_type": "code",
   "execution_count": 126,
   "id": "2118c9e7-e9d1-4670-bf14-b9a67d20cfac",
   "metadata": {},
   "outputs": [
    {
     "name": "stdout",
     "output_type": "stream",
     "text": [
      "torch.Size([32, 1])\n",
      "torch.Size([32, 51])\n"
     ]
    }
   ],
   "source": [
    "targets = labels[:,-1].unsqueeze(-1)\n",
    "print (targets.shape) # B, K\n",
    "B, K = targets.shape\n",
    "candidates = torch.cat((targets, neg_sample), dim=1)\n",
    "print (candidates.shape)"
   ]
  },
  {
   "cell_type": "code",
   "execution_count": 127,
   "id": "09998562-8521-4f04-a1c7-c9a9cd2b7ca5",
   "metadata": {},
   "outputs": [
    {
     "name": "stdout",
     "output_type": "stream",
     "text": [
      "torch.Size([32, 3707])\n"
     ]
    }
   ],
   "source": [
    "logits = logits[:, -1, :]  # last position\n",
    "print (logits.shape)"
   ]
  },
  {
   "cell_type": "code",
   "execution_count": 128,
   "id": "e4aafed3-1131-4db9-baab-61daa3956e04",
   "metadata": {},
   "outputs": [
    {
     "name": "stdout",
     "output_type": "stream",
     "text": [
      "tensor([ 438,  420,  190, 1076, 1076,   69,  247,  134,   10,  930,  433,  129,\n",
      "         832,  211,  533,  518,   61,   39,  238,  838,   69,   69, 1076,   69,\n",
      "          87,  534,  353,  129,   61,  534,  532,  247]) tensor([[1518],\n",
      "        [1107],\n",
      "        [1281],\n",
      "        [1364],\n",
      "        [ 895],\n",
      "        [1041],\n",
      "        [ 525],\n",
      "        [1376],\n",
      "        [ 886],\n",
      "        [2376],\n",
      "        [1174],\n",
      "        [ 890],\n",
      "        [2016],\n",
      "        [ 548],\n",
      "        [1580],\n",
      "        [ 262],\n",
      "        [1189],\n",
      "        [2516],\n",
      "        [ 219],\n",
      "        [2386],\n",
      "        [2241],\n",
      "        [1267],\n",
      "        [1015],\n",
      "        [ 500],\n",
      "        [ 880],\n",
      "        [1160],\n",
      "        [ 154],\n",
      "        [ 436],\n",
      "        [ 110],\n",
      "        [1158],\n",
      "        [ 499],\n",
      "        [ 259]])\n"
     ]
    }
   ],
   "source": [
    "predictions=logits.argmax(dim=1)\n",
    "references=targets\n",
    "print (predictions, targets)"
   ]
  },
  {
   "cell_type": "code",
   "execution_count": 129,
   "id": "1e883acb-5264-4326-a86f-1f1f8a88909c",
   "metadata": {},
   "outputs": [
    {
     "data": {
      "text/plain": [
       "tensor([[ -0.6900,  -4.8754,  -6.1538,  ..., -11.6188, -11.5547,  -6.7060],\n",
       "        [  0.9483,  -9.4182,  -2.4566,  ...,  -9.0036,  -3.3372,  -2.6410],\n",
       "        [ -0.1588,  -2.7801,  -2.2601,  ...,  -6.7586,  -6.0960,  -8.5420],\n",
       "        ...,\n",
       "        [  1.5060,  -4.6516, -11.2825,  ..., -11.0691, -11.9302,  -5.1259],\n",
       "        [ -0.8759,  -1.3401,  -9.7555,  ...,  -4.3106,  -2.6279,  -9.4801],\n",
       "        [  1.1888,  -9.7429,  -4.6852,  ...,  -3.7372, -10.5331,  -3.5214]],\n",
       "       grad_fn=<GatherBackward0>)"
      ]
     },
     "execution_count": 129,
     "metadata": {},
     "output_type": "execute_result"
    }
   ],
   "source": [
    "logits.gather(1, candidates).cpu()"
   ]
  },
  {
   "cell_type": "code",
   "execution_count": 130,
   "id": "821960d7-eca0-462e-be9e-f9b1d20f8660",
   "metadata": {},
   "outputs": [
    {
     "data": {
      "text/plain": [
       "tensor([[-0.6900],\n",
       "        [ 0.9483],\n",
       "        [-0.1588],\n",
       "        [ 1.7015],\n",
       "        [ 0.7795],\n",
       "        [ 0.1989],\n",
       "        [ 2.0634],\n",
       "        [-0.2410],\n",
       "        [ 0.2375],\n",
       "        [-2.1970],\n",
       "        [ 0.4046],\n",
       "        [-1.4611],\n",
       "        [-0.2847],\n",
       "        [ 1.6789],\n",
       "        [ 0.0110],\n",
       "        [ 0.4923],\n",
       "        [-0.7186],\n",
       "        [-9.2214],\n",
       "        [ 2.4940],\n",
       "        [ 0.7613],\n",
       "        [ 1.0710],\n",
       "        [-1.9045],\n",
       "        [ 1.0546],\n",
       "        [ 3.0804],\n",
       "        [ 1.2476],\n",
       "        [ 0.5921],\n",
       "        [-0.4447],\n",
       "        [ 1.4848],\n",
       "        [-0.0661],\n",
       "        [ 1.5060],\n",
       "        [-0.8759],\n",
       "        [ 1.1888]], grad_fn=<GatherBackward0>)"
      ]
     },
     "execution_count": 130,
     "metadata": {},
     "output_type": "execute_result"
    }
   ],
   "source": [
    "logits.gather(1, targets).cpu()"
   ]
  },
  {
   "cell_type": "code",
   "execution_count": 26,
   "id": "87ebbe7c-4f3f-4b4c-813a-fdf44f2a7ec0",
   "metadata": {},
   "outputs": [
    {
     "name": "stdout",
     "output_type": "stream",
     "text": [
      "item_embedding.weight grad norm: 0.010649275965988636\n",
      "position_embedding.weight grad norm: 0.023239050060510635\n",
      "encoder.layers.0.self_attn.in_proj_weight grad norm: 0.20482070744037628\n",
      "encoder.layers.0.self_attn.in_proj_bias grad norm: 0.015206803567707539\n",
      "encoder.layers.0.self_attn.out_proj.weight grad norm: 0.14409254491329193\n",
      "encoder.layers.0.self_attn.out_proj.bias grad norm: 0.021366922184824944\n",
      "encoder.layers.0.linear1.weight grad norm: 0.15505120158195496\n",
      "encoder.layers.0.linear1.bias grad norm: 0.009657294489443302\n",
      "encoder.layers.0.linear2.weight grad norm: 0.3421947956085205\n",
      "encoder.layers.0.linear2.bias grad norm: 0.021902913227677345\n",
      "encoder.layers.0.norm1.weight grad norm: 0.022491611540317535\n",
      "encoder.layers.0.norm1.bias grad norm: 0.022413820028305054\n",
      "encoder.layers.0.norm2.weight grad norm: 0.025037651881575584\n",
      "encoder.layers.0.norm2.bias grad norm: 0.024799855425953865\n",
      "encoder.layers.1.self_attn.in_proj_weight grad norm: 0.1483602225780487\n",
      "encoder.layers.1.self_attn.in_proj_bias grad norm: 0.014083760790526867\n",
      "encoder.layers.1.self_attn.out_proj.weight grad norm: 0.1654633730649948\n",
      "encoder.layers.1.self_attn.out_proj.bias grad norm: 0.022543391212821007\n",
      "encoder.layers.1.linear1.weight grad norm: 0.19891859591007233\n",
      "encoder.layers.1.linear1.bias grad norm: 0.012103446759283543\n",
      "encoder.layers.1.linear2.weight grad norm: 0.37591513991355896\n",
      "encoder.layers.1.linear2.bias grad norm: 0.0294655654579401\n",
      "encoder.layers.1.norm1.weight grad norm: 0.028725972399115562\n",
      "encoder.layers.1.norm1.bias grad norm: 0.027370518073439598\n",
      "encoder.layers.1.norm2.weight grad norm: 0.04310489445924759\n",
      "encoder.layers.1.norm2.bias grad norm: 0.04158618301153183\n",
      "layer_norm.weight grad norm: 0.04385947063565254\n",
      "layer_norm.bias grad norm: 0.04248805716633797\n",
      "output_layer.weight grad norm: 1.2742704153060913\n",
      "output_layer.bias grad norm: 0.0798758864402771\n"
     ]
    }
   ],
   "source": [
    "for name, param in bert4rec_model.named_parameters():\n",
    "    if param.grad is not None:\n",
    "        print(f\"{name} grad norm: {param.grad.norm()}\")"
   ]
  },
  {
   "cell_type": "code",
   "execution_count": null,
   "id": "c982e419-f33c-474a-8a90-d3b1c14a9098",
   "metadata": {},
   "outputs": [],
   "source": []
  }
 ],
 "metadata": {
  "kernelspec": {
   "display_name": "Python 3 (ipykernel)",
   "language": "python",
   "name": "python3"
  },
  "language_info": {
   "codemirror_mode": {
    "name": "ipython",
    "version": 3
   },
   "file_extension": ".py",
   "mimetype": "text/x-python",
   "name": "python",
   "nbconvert_exporter": "python",
   "pygments_lexer": "ipython3",
   "version": "3.11.11"
  }
 },
 "nbformat": 4,
 "nbformat_minor": 5
}
